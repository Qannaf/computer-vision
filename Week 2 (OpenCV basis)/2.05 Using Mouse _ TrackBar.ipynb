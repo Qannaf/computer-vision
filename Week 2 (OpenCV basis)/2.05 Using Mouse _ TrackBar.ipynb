{
 "cells": [
  {
   "cell_type": "markdown",
   "metadata": {},
   "source": [
    "\n",
    "# <center><font style=\"color:rgb(100,109,254)\"> Using Mouse & TrackBar</font><center>\n"
   ]
  },
  {
   "cell_type": "code",
   "execution_count": 1,
   "metadata": {},
   "outputs": [],
   "source": [
    "import cv2\n",
    "import numpy as np \n",
    "import matplotlib.pyplot as plt"
   ]
  },
  {
   "cell_type": "markdown",
   "metadata": {},
   "source": [
    "\n",
    "Lets see how we can read mouse inputs and create trackbars, this has many benefits one of each we can adjust hyperparameters change important parameters in real time instead of manually changing them and running the code again and again."
   ]
  },
  {
   "cell_type": "markdown",
   "metadata": {},
   "source": [
    "##  <font style=\"color:rgb(134,19,348)\"> Reading Mouse Inputs\n",
    "</font>\n",
    "\n",
    "Now there are many mouse inputs that you can read and act or trigger something, lets print all the available trigger events in opencv"
   ]
  },
  {
   "cell_type": "code",
   "execution_count": 2,
   "metadata": {},
   "outputs": [
    {
     "name": "stdout",
     "output_type": "stream",
     "text": [
      "['EVENT_FLAG_ALTKEY', 'EVENT_FLAG_CTRLKEY', 'EVENT_FLAG_LBUTTON', 'EVENT_FLAG_MBUTTON', 'EVENT_FLAG_RBUTTON', 'EVENT_FLAG_SHIFTKEY', 'EVENT_LBUTTONDBLCLK', 'EVENT_LBUTTONDOWN', 'EVENT_LBUTTONUP', 'EVENT_MBUTTONDBLCLK', 'EVENT_MBUTTONDOWN', 'EVENT_MBUTTONUP', 'EVENT_MOUSEHWHEEL', 'EVENT_MOUSEMOVE', 'EVENT_MOUSEWHEEL', 'EVENT_RBUTTONDBLCLK', 'EVENT_RBUTTONDOWN', 'EVENT_RBUTTONUP']\n"
     ]
    }
   ],
   "source": [
    "# just a list comprehension that gives us a list of the all the events\n",
    "events = [i for i in dir(cv2) if 'EVENT' in i]\n",
    "print(events) "
   ]
  },
  {
   "cell_type": "markdown",
   "metadata": {},
   "source": [
    "As you can see above we have many options like , left button down (EVENT_LBUTTONDOWN), left button double click (EVENT_LBUTTONDBLCLK) , right button down (EVENT_RBUTTONDOWN) and so on\n",
    "\n",
    "Now for reading the mouse events we first have to attach mouse clicks to the image window, so we are just gonna be telling that on this window we will read the mouse input, this is done by **cv2.setMouseCallback()** function.\n",
    "\n",
    "> [```cv2.setMouseCallback(Window_Name,Method)```](https://docs.opencv.org/4.2.0/d7/dfc/group__highgui.html#ga89e7806b0a616f6f1d502bd8c183ad3e)\n",
    "\n",
    "**Params:**\n",
    "\n",
    "- `Window_Name:` The name of window which we're gonna attach the mouse callback function\n",
    "- `Method:` The method that is going to be called every time a mouse event like click or movement is detected\n",
    "\n",
    "Now before we use the above function two things must be done, first we must create a window before hand since we are gonna be telling the mouse which window to attach. This is pretty similar to the resizable window code but the difference here is that we don't need to change window type. So we will just do **cv2.namedWindow(Window_Name)** , give it any name you want.\n",
    "\n",
    "The next thing you must do is to create a method that is going to be called whenever a mouse event is detected. Now this method by default will have to take a couple of arguments listed below:\n",
    "\n",
    "**Params:**\n",
    "- `event`\tThe event which occured it can be a click or a movement.\n",
    "- `x`\tThe x-coordinate of the mouse event.\n",
    "- `y`\tThe y-coordinate of the mouse event.\n",
    "- `flags`\tone of the MouseEventFlags constants. (Not gonna be used)\n",
    "- `userdata`\tThe optional parameter. (Not gonna be used)\n",
    "\n",
    "*Now Lets make a function that draws circles on the image where ever the user clicks.*"
   ]
  },
  {
   "cell_type": "code",
   "execution_count": 3,
   "metadata": {},
   "outputs": [],
   "source": [
    "img = cv2.imread('media/M1/party.jpg',1)  \n",
    "\n",
    "# Creating a named  window\n",
    "cv2.namedWindow('image')\n",
    "\n",
    "\n",
    "# Mouse callback function\n",
    "def draw_circle(event,x,y,flags,userdata):\n",
    "    #when user double clicks the left button draw a circle\n",
    "    if event == cv2.EVENT_LBUTTONDBLCLK:\n",
    "        cv2.circle(img,(x,y),10,(255,0,0),-1)\n",
    "\n",
    "\n",
    "# Attach mouse call back to a window and a method\n",
    "cv2.setMouseCallback('image',draw_circle)\n",
    "\n",
    "while True:    \n",
    "    # Show the image in a loop so real time changes can be visible\n",
    "    cv2.imshow('image',img)    \n",
    "\n",
    "    # Exit if ESC is pressed\n",
    "    if cv2.waitKey(20) & 0xFF == 27:\n",
    "        break\n",
    "        \n",
    "cv2.destroyAllWindows()"
   ]
  },
  {
   "attachments": {
    "trackbar.PNG": {
     "image/png": "[encoded data removed]"
    }
   },
   "cell_type": "markdown",
   "metadata": {},
   "source": [
    "##  <font style=\"color:rgb(134,19,348)\"> Using Trackbars\n",
    "</font>\n",
    "\n",
    "So a trackbar is just a slider which has a min and max value and the user can use slider to select a value\n",
    "![trackbar.PNG](attachment:trackbar.PNG)\n",
    "\n",
    "You can create trackbars in OpenCV by using **cv2.createTrackbar()** Now the procedure is pretty similar to that of mousecallback function , first you create a namedwindow , then you create a method and finally you attach the trackbar to that window with the method.\n",
    "\n",
    "> [```cv2.createTrackbar(trackbarname,winname,value,count,onChange)```](https://docs.opencv.org/4.2.0/d7/dfc/group__highgui.html#gaf78d2155d30b728fc413803745b67a9b)\n",
    "\n",
    "\n",
    "**Params:**\n",
    "- `trackbarname:`Name of the created trackbar.\n",
    "- `winname:`\t Name of the window that will be attached to the created trackbar.\n",
    "- `value:`\t     Starting value for the slider.\n",
    "- `count`\t     Max value for the slider. The min position is always 0.\n",
    "- `onChange:`    The method that will be called when slider changes position. (we wont use this function) \n",
    "\n",
    "For getting the value of the slider we will use another function called **cv2.getTrackbarPos()** \n",
    "\n",
    "> [```cv2.getTrackbarPos(Trackbar_Name,winname)```](https://docs.opencv.org/4.2.0/d7/dfc/group__highgui.html#ga122632e9e91b9ec06943472c55d9cda8)\n",
    "\n",
    "**Params:**\n",
    "- `Trackbar_Name:` Name of the trackbar you wish to get the value of.\n",
    "- `winname:`\t   Name of the window that will be attached to the created trackbar.\n",
    "\n",
    "Now lets add a trackbar to the above code and make the radius of the drawn circle be adjustable"
   ]
  },
  {
   "cell_type": "code",
   "execution_count": 4,
   "metadata": {},
   "outputs": [],
   "source": [
    "# Instead of drawing on that clown image we are gonna make a black image and draw on that \n",
    "img = np.zeros((512,512,3), np.uint8)\n",
    "\n",
    "# Create a named  window\n",
    "cv2.namedWindow('image')\n",
    "\n",
    "# Create the function for the trackbar since its mandatory but we wont be using it so pass.\n",
    "def nothing(x):\n",
    "    pass\n",
    "\n",
    "\n",
    "# create trackbars Named Radius with the range o f 150 and starting position of 5.\n",
    "cv2.createTrackbar('Radius','image',5,150,nothing) \n",
    "\n",
    "# Mouse callback function\n",
    "def draw_circle(event,x,y,flags,param):\n",
    "    if event == cv2.EVENT_LBUTTONDBLCLK:\n",
    "        cv2.circle(img,(x,y),radius,(255,0,0),-1)\n",
    "\n",
    "\n",
    "# Attach mouse call back to a window and a method\n",
    "cv2.setMouseCallback('image',draw_circle)\n",
    "\n",
    "while True:\n",
    "    \n",
    "    cv2.imshow('image',img)\n",
    "    \n",
    "    # get the updated values from the trackbar\n",
    "    radius = cv2.getTrackbarPos('Radius','image')\n",
    "\n",
    "    if cv2.waitKey(20) & 0xFF == 27:\n",
    "        break\n",
    "        \n",
    "cv2.destroyAllWindows()"
   ]
  },
  {
   "cell_type": "markdown",
   "metadata": {},
   "source": [
    " \n",
    "###  <font style=\"color:rgb(34,169,134)\">Assignment: You have add 3 more trackbars to the above and control the BGR color of circle through those trackbars and also you have to add an Option to clear up the black image by pressing 'c'</font>\n"
   ]
  },
  {
   "cell_type": "code",
   "execution_count": null,
   "metadata": {},
   "outputs": [],
   "source": [
    "## ADD CODE BELOW\n",
    "\n",
    "## ~ 25 lines of code, just copy paste from above and add the additional code"
   ]
  },
  {
   "cell_type": "markdown",
   "metadata": {},
   "source": [
    "If you're up for a more advance mouse based application then you can learn how to draw on the image with it, [see here](https://docs.opencv.org/4.1.0/db/d5b/tutorial_py_mouse_handling.html), although we will cover this later"
   ]
  }
 ],
 "metadata": {
  "kernelspec": {
   "display_name": "Python 3",
   "language": "python",
   "name": "python3"
  },
  "language_info": {
   "codemirror_mode": {
    "name": "ipython",
    "version": 3
   },
   "file_extension": ".py",
   "mimetype": "text/x-python",
   "name": "python",
   "nbconvert_exporter": "python",
   "pygments_lexer": "ipython3",
   "version": "3.7.3"
  }
 },
 "nbformat": 4,
 "nbformat_minor": 2
}
