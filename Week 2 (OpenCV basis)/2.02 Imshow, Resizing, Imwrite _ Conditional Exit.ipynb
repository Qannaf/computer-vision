{
 "cells": [
  {
   "cell_type": "markdown",
   "metadata": {},
   "source": [
    "\n",
    "# <center><font style=\"color:rgb(100,109,254)\"> Imshow, Resizing, Imwrite & Conditional Exit</font></center>\n",
    "\n"
   ]
  },
  {
   "cell_type": "code",
   "execution_count": 9,
   "metadata": {},
   "outputs": [],
   "source": [
    "import cv2\n",
    "import numpy as np \n",
    "import matplotlib.pyplot as plt"
   ]
  },
  {
   "cell_type": "markdown",
   "metadata": {},
   "source": [
    "##  <font style=\"color:rgb(134,19,348)\"> Displaying Images with Opencv Imshow\n",
    "</font>\n",
    "\n",
    "If you're running the code on your local computer then you will can use GUI functions like popping up a window to display an image, there are generally 3 steps involved in displaying and closing a window.\n",
    "\n",
    "1.  use **cv2.imshow()** to show images. \n",
    "\n",
    "[```cv2.imshow(Window_Name,img)```](https://docs.opencv.org/4.2.0/d7/dfc/group__highgui.html#ga453d42fe4cb60e5723281a89973ee563)\n",
    "\n",
    "Param:\n",
    "- `Window_Name`: Any custom name you will assign to your window\n",
    "- `img`: Your image either be in uint8 datatype or float datatype having range 0-1\n",
    "\n",
    "\n",
    "2. Also with **cv2.imshow()** you will have to use the **cv2.waitKey()**  this function is a keyboard binding function. Its argument is the time in milliseconds. The function waits for specified milliseconds. If you press any key in that time, the program continues. If 0 is passed, it waits indefinitely for a key stroke. Now this function also returns a value which we use later\n",
    "\n",
    "[```cv2.waitKey(delay=0)```](https://docs.opencv.org/4.2.0/d7/dfc/group__highgui.html#ga5628525ad33f52eab17feebcfba38bd7)\n",
    "\n",
    "**Note:** The default delay is `0` which means wait forever until the user presses a key.\n",
    "\n",
    "3. The last step is to destroy the window we created so the program can end, we can do that by \n",
    "\n",
    "**cv2.destroyWindow(Window_Name)**\n",
    "\n",
    "[```cv2.destroyWindow(Window_Name)```](https://docs.opencv.org/4.2.0/d7/dfc/group__highgui.html#ga851ccdd6961022d1d5b4c4f255dbab34)\n",
    "\n",
    "- `Window_Name:` This is the exact name of the window you named in cv2.imshow()\n",
    "\n",
    "**WARNING:** Don't Close the Window by clicking the `x` button on corner of the window, it will crash the program because your cv2.waitkey() function will still be waiting."
   ]
  },
  {
   "cell_type": "code",
   "execution_count": 14,
   "metadata": {},
   "outputs": [],
   "source": [
    "img = cv2.imread('media/M1/party.jpg',1)\n",
    "GRAY_image = cv2.cvtColor(img, cv2.COLOR_BGR2GRAY)\n",
    "\n",
    "# Show image\n",
    "cv2.imshow(\"First Image\", img)\n",
    "\n",
    "# Program pauses waits for any key press\n",
    "cv2.waitKey(0)\n",
    "\n",
    "# After you press any key the program continues and in the next line we destroy the window we created.\n",
    "cv2.destroyWindow('First Image') # pass in the exact window name you created by."
   ]
  },
  {
   "cell_type": "markdown",
   "metadata": {},
   "source": [
    "You can display mutiple windows and you can close all of them by a sigle fucntion called **cv2.destroyAllWindows()**"
   ]
  },
  {
   "cell_type": "code",
   "execution_count": 13,
   "metadata": {},
   "outputs": [],
   "source": [
    "cv2.imshow('image',img)\n",
    "cv2.imshow('GRAY-image',GRAY_image)\n",
    "\n",
    "# Automatically close the window after 5 seconds since 5000 millseconds = 5 seconds\n",
    "cv2.waitKey(5000)\n",
    "cv2.destroyAllWindows()"
   ]
  },
  {
   "cell_type": "markdown",
   "metadata": {},
   "source": [
    "\n",
    "###  <font style=\"color:rgb(34,169,134)\"> Assignment 1: Show grayscale and color window like we did above but close the color window after 3.5 seconds and then after 4 more seconds close the gray_scale window</font>\n"
   ]
  },
  {
   "cell_type": "code",
   "execution_count": null,
   "metadata": {},
   "outputs": [],
   "source": [
    "## ADD CODE BELOW\n",
    "# ~ 6 lines of code\n"
   ]
  },
  {
   "cell_type": "markdown",
   "metadata": {},
   "source": [
    "\n",
    "##  <font style=\"color:rgb(134,19,348)\"> Resizeable Window</font>\n",
    "\n",
    "Notice how if you try to expand the window to get full screen you only get the original size of the image and it does expand/shrink with the window, but we can change that by predefining and changing the type of the window, Now in this case we create a window first and load the image into it later. In this case, you can specify whether window is resizable or not. It is done with the function **cv2.namedWindow()**  \n",
    "\n",
    "[```cv2.namedWindow('Window_Name', flag)```](https://docs.opencv.org/4.2.0/d7/dfc/group__highgui.html#ga5afdf8410934fd099df85c75b2e0888b)\n",
    "\n",
    "- `Window_Name:` Name of the window you will use in cv2.imshow()\n",
    "- `flag:` By default, the flag is `cv2.WINDOW_AUTOSIZE.` But if we specify the flag to be `cv2.WINDOW_NORMAL`, you can resize the window."
   ]
  },
  {
   "cell_type": "code",
   "execution_count": 15,
   "metadata": {},
   "outputs": [],
   "source": [
    "cv2.namedWindow('resizable window', cv2.WINDOW_NORMAL)\n",
    "cv2.imshow('resizable window',img) # use the same window name\n",
    "cv2.waitKey(0)\n",
    "cv2.destroyAllWindows()"
   ]
  },
  {
   "cell_type": "markdown",
   "metadata": {},
   "source": [
    "##  <font style=\"color:rgb(134,19,348)\"> Writing/Saving:\n",
    "</font>\n",
    "\n",
    "You can save an image in computer by using **cv2.imwrite()** function\n",
    "\n",
    "[```cv2.imwrite(filename,img)```](https://docs.opencv.org/4.2.0/d4/da8/group__imgcodecs.html#gabbc7ef1aa2edfaa87772f1202d67e0ce)\n",
    "\n",
    "- `filename:` The name by which you want to save the image, you can also specify to save at a specific location.\n",
    "- `img:` The image you want to save."
   ]
  },
  {
   "cell_type": "code",
   "execution_count": 16,
   "metadata": {},
   "outputs": [
    {
     "data": {
      "text/plain": [
       "True"
      ]
     },
     "execution_count": 16,
     "metadata": {},
     "output_type": "execute_result"
    }
   ],
   "source": [
    "cv2.imwrite('media/M1/partygrey.png', GRAY_image)  # it returns true if your image was successfully saved"
   ]
  },
  {
   "cell_type": "markdown",
   "metadata": {},
   "source": [
    "##  <font style=\"color:rgb(134,19,348)\"> Conditional Exit\n",
    "</font>\n",
    "\n",
    "Remember, that I said cv2.waitKey() returns a value that we will use later, so now we're gonna use it , the variable returns is the ASCII value of the letter you press, for e.g if press `ESC` key cv2.waitkey() will return `27` which is the ASCII value for the `ESC` key. \n",
    "\n",
    "Now lets make a program that saves an image and exits if the letter `s` is pressed, otherwise it just exits the program if any other key is pressed. Don't worry if you don't have to remember the ASCII value for `s` since we are gonna use a function called **ord()** which returns the ASCII value of any character."
   ]
  },
  {
   "cell_type": "code",
   "execution_count": 19,
   "metadata": {},
   "outputs": [
    {
     "name": "stdout",
     "output_type": "stream",
     "text": [
      "image saved\n"
     ]
    }
   ],
   "source": [
    "cv2.imshow('image',img)\n",
    "k = cv2.waitKey(0)\n",
    "\n",
    "if k == ord('s'): # if 's' key was pressed then save and exit\n",
    "    cv2.imwrite('media/M1/partygrey.png',GRAY_image)\n",
    "    print('image saved')\n",
    "    cv2.destroyAllWindows()\n",
    "else:        \n",
    "    cv2.destroyAllWindows()"
   ]
  }
 ],
 "metadata": {
  "kernelspec": {
   "display_name": "Python 3",
   "language": "python",
   "name": "python3"
  },
  "language_info": {
   "codemirror_mode": {
    "name": "ipython",
    "version": 3
   },
   "file_extension": ".py",
   "mimetype": "text/x-python",
   "name": "python",
   "nbconvert_exporter": "python",
   "pygments_lexer": "ipython3",
   "version": "3.7.3"
  }
 },
 "nbformat": 4,
 "nbformat_minor": 2
}
