{
 "cells": [
  {
   "cell_type": "markdown",
   "metadata": {},
   "source": [
    "\n",
    "# <center><font style=\"color:rgb(100,109,254)\"> Working With Videos</font></center>\n",
    "\n"
   ]
  },
  {
   "cell_type": "code",
   "execution_count": 7,
   "metadata": {},
   "outputs": [],
   "source": [
    "import cv2\n",
    "import numpy as np \n",
    "import matplotlib.pyplot as plt"
   ]
  },
  {
   "cell_type": "markdown",
   "metadata": {},
   "source": [
    "\n",
    "\n",
    "We have learned about Images, now lets talk about dealing with Videos in OpenCV, First it should be clear to you that any operation you perform on images can be done on videos too since a video is nothing but a series of images, for e.g. Consider a 30 FPS video, which means this video shows 30 Frames (images) each second.\n",
    "\n",
    "Now you can read Videos in Opencv but first you have to initialize the camera Object by doing this:<br><br>\n",
    "[```cap = cv2.VideoCapture(arg)```](https://docs.opencv.org/4.2.0/d8/dfe/classcv_1_1VideoCapture.html#a57c0e81e83e60f36c83027dc2a188e80)\n",
    "\n",
    "Now there are 4 ways we can use the videoCapture Object depending what you pass in as **`arg`**:\n",
    "\n",
    "\n",
    "1. **Using Live camera feed:** You pass in an integer number i.e. 0,1,2 etc e.g. `cap = cv2.VideoCapture(0)` Now if you're gonna use your default web cam you would probably pass in a 0, if you add a usb cam you can access it by passing  1 or -1 or 2 etc the exact number depends upon the USB port and the number of usb cams you're using together. \n",
    "\n",
    "2. **Playing a saved Video on Disk:** You pass in the path to the video file e.g.`cap = cv2.VideoCapture(Path_To_video)`.\n",
    "\n",
    "3. **Live Streaming from url using Ip camera or similar:** You can stream from a url e.g. `cap = cv2.VideoCapture(protocol://host:port/script_name?script_params|auth)`\n",
    "*Note, that each video stream or IP camera feed has its own URL scheme.*\n",
    "\n",
    "4. **Read sequence of Images:** You can read series of images from a folder with this e.g. `cap = cv2.VideoCapture(img_%02d.jpg) ` which will read samples like img_00.jpg, img_01.jpg, img_02.jpg, ...\n",
    "\n",
    "\n",
    "The next step step After Initializing is read from video frame by frame , we do this by using **cap.read()**.\n",
    "\n",
    "[```ret, frame = cap.read()```](https://docs.opencv.org/4.2.0/d8/dfe/classcv_1_1VideoCapture.html#a473055e77dd7faa4d26d686226b292c1)\n",
    "\n",
    "**Params:**\n",
    "\n",
    "- `ret:` A boolean variable which either returns True if the frame was successfully read otherwise False if it fails to read the next frame, this is a really important param when working with videos since after reading the last frame from the video this parameter will return false meaning it can't read the next frame so we know that we have to exit the program.\n",
    "\n",
    "- `frame:` This will be a frame/image of our video. Now every time we run cap.read() it will give us a new frame so we will put cap.read() in a loop and show all the frames sequentially , it will look like we are playing a video but actually we are just displaying frame by frame.\n",
    "\n",
    "After exiting the loop there is one last thing you must do , you must release the `cap` object you created by doing `cap.release()` otherwise your camera will stay on even after the program ends. You may also want to destroy any remaining windows after the loop.\n",
    "\n",
    "**Note**: Don't pass in `0`  in cv2.waitKey() function when you are showing videos since it will continuously wait for keyboard input before showing the next frame."
   ]
  },
  {
   "cell_type": "markdown",
   "metadata": {},
   "source": [
    "**Note:** Sometimes, cap may not have initialized the capture. In this case, this code shows error. You can check whether it is initialized or not by the method **`cap.isOpened()`** If it is True, then its fine. Otherwise open it using **`cap.open()`**<br><br>\n",
    "[```cap.open(arg)```](https://docs.opencv.org/4.2.0/d8/dfe/classcv_1_1VideoCapture.html#a614a1702e15f42ede5100014ce7f48ed)\n",
    "\n",
    "This takes the same arg as described above in VideoCapture"
   ]
  },
  {
   "cell_type": "markdown",
   "metadata": {},
   "source": [
    "##  <font style=\"color:rgb(134,19,348)\"> Reading Video from Disk\n",
    "</font>\n",
    "\n",
    "Lets read a video we saved on disk"
   ]
  },
  {
   "cell_type": "code",
   "execution_count": 10,
   "metadata": {},
   "outputs": [
    {
     "name": "stdout",
     "output_type": "stream",
     "text": [
      "Status: True\n"
     ]
    }
   ],
   "source": [
    "#Initilize Video capture Object and points towards a video file\n",
    "cap = cv2.VideoCapture('media/M1/vtest.avi')\n",
    "\n",
    "# If your capture was not properly initialized , then open it.\n",
    "if not cap.isOpened():\n",
    "    cap.open('media/M1/vtest.avi')\n",
    "    \n",
    "# Lets print the status of your Capture.\n",
    "print('Status:',cap.isOpened()) \n",
    "\n",
    "# Initilize a loop in which we will read video frame by frame    \n",
    "while(True):\n",
    "    \n",
    "    # read frame by frame\n",
    "    ret, frame = cap.read() \n",
    "\n",
    "    # if a frame is not read correctly or there are no more frames to be read then exit the loop\n",
    "    if not ret:\n",
    "        break\n",
    "        \n",
    "    # lets just convert this video in grayscale so we can say we are doing real time image processing XD.     \n",
    "    gray = cv2.cvtColor(frame, cv2.COLOR_BGR2GRAY)\n",
    "\n",
    "    # Show the frame we just read\n",
    "    cv2.imshow('frame',gray)\n",
    "        \n",
    "    # Wait for the specified milliseconds, before showing showing the next frame, if the user presses `q` we can exit loop.\n",
    "    if cv2.waitKey(1) & 0xFF ==  ord('q'):\n",
    "        break\n",
    "\n",
    "# Release the videocapture object\n",
    "cap.release()\n",
    "# Destroy the windows you created\n",
    "cv2.destroyAllWindows()"
   ]
  },
  {
   "cell_type": "markdown",
   "metadata": {},
   "source": [
    "*Notice that You can adjust the speed at which the video plays by the miliseconds in **waitKey()** , If you recorded at 30 FPS and your loop runs at 60 iterations per second then your video will play 2x speed. <br> \n",
    "\n",
    "You may have noticed the weird syntax `& 0xFF`, well I'll not go into details to confuse the readers so I'll just say its a good practice and It will also work without this. But for those interested in details can look at [this really intresting thread](https://stackoverflow.com/questions/35372700/whats-0xff-for-in-cv2-waitkey1/39948971) for explanation.  \n",
    "<br> "
   ]
  },
  {
   "cell_type": "markdown",
   "metadata": {},
   "source": [
    "**Tip:** Sometimes when you are doing processing and you encounter an error the program exits but the camera and window stays initialized, in that case you should run these two lines in a new cell \n",
    "- cap.release()\n",
    "- cv2.destroyAllWindows()\n",
    "\n",
    "Otherwise it will crash the kernel, if you still face problems then the final option is to restart the kernel by clicking kernel above and hitting restart. Note: You will have to import the libraries again if you restart the kernel and also all variables saved in memory are lost but its not a problem as you can run all the cells again. "
   ]
  },
  {
   "cell_type": "markdown",
   "metadata": {},
   "source": [
    "##  <font style=\"color:rgb(134,19,348)\"> Taking In Live Stream From Webcam\n",
    "</font>\n",
    "\n",
    "Now lets move on to something interesting, lets start reading a live feed from your webcam and not just that, lets build our very first camera application that takes and saves a picture when we press `s` , the only change we will be doing is we will pass `0` to use our default camera instead of reading a boring video\n",
    "\n",
    "Note: The camera feed is laterally inverted meaning its the inverse of mirror image so we will flip it horizontally although this is not required. For flipping we use **cv2.flip()**\n",
    "\n",
    "> [```cv2.flip(img,flipCode)```](https://docs.opencv.org/4.2.0/d2/de8/group__core__array.html#gaca7be533e3dac7feb70fc60635adf441)\n",
    "\n",
    "**Params:**\n",
    "- `img:` This is your input image that you want to flip\n",
    "- `flipCode:` A flag which specifies how to flip the image, 0 means flipping around the x-axis (horizontal flipping) and positive value (for example, 1) means flipping around y-axis (vertically). Negative value (for example, -1) means flipping around both axes.\n",
    "\n"
   ]
  },
  {
   "cell_type": "code",
   "execution_count": 22,
   "metadata": {},
   "outputs": [],
   "source": [
    "cap = cv2.VideoCapture(-1)  \n",
    "\n",
    "while (True):\n",
    "    \n",
    "  ret ,frame = cap.read()  \n",
    "\n",
    "  if not ret:\n",
    "        break\n",
    "        \n",
    "  # Not required but looks nice      \n",
    "  frame = cv2.flip( frame, 1 )     \n",
    "\n",
    "  cv2.imshow(\"img\",frame)       \n",
    "  k = cv2.waitKey(1)  & 0xFF\n",
    "\n",
    "  if k == ord('q'):  \n",
    "      break\n",
    "\n",
    "  if k ==ord('s'):\n",
    "      cv2.imwrite('media/M1/mysavedpicc.jpg',frame)\n",
    "      cv2.imshow('Picture Saved',frame)  \n",
    "           \n",
    "          \n",
    "cap.release()\n",
    "cv2.destroyAllWindows()   "
   ]
  },
  {
   "cell_type": "markdown",
   "metadata": {},
   "source": [
    "##  <font style=\"color:rgb(134,19,348)\"> Saving Video as a Recording\n",
    "</font>\n",
    "\n",
    "Now you might want to save your processed video as a recording, so now we are gonna save our live camera feed as recording.\n",
    "For saving image its pretty easy, you just do **cv2.imwrite()**  but for saving/writing videos we need to create a videowriter Object and write frame by frame using that and at the end release that object, its just like videocapture object but with different parameters.\n",
    "\n",
    "> [```out = cv2.VideoWriter(filename, fourcc, fps, frameSize)```](https://docs.opencv.org/4.2.0/dd/d9e/classcv_1_1VideoWriter.html#ad59c61d8881ba2b2da22cff5487465b5)\n",
    "\n",
    "**Params:**\n",
    "\n",
    "- `filename:` Name and of the output video file you want to create\n",
    "- `fourcc:`\t4-character (4 byte) code of codec used to compress the frames. For example, VideoWriter::fourcc('P','I','M','1') is a MPEG-1 codec, VideoWriter::fourcc('M','J','P','G') is a motion-jpeg codec etc. List of codes can be obtained [here](http://www.fourcc.org/codecs.php).\n",
    "- `fps:`\tFrames per second (Framerate) of the created video \n",
    "- `frameSize:`\tSize of the video frames, Note: this size should match the actual size of the frame you save otherwise your video will be corrupt.\n",
    "\n",
    "\n",
    "**Note:** I will use the codec `XVID` this works for me and for many others and we will do that by doing:\n",
    "> [```fourcc =   cv2.VideoWriter_fourcc(*'XVID')```](https://docs.opencv.org/4.2.0/dd/d9e/classcv_1_1VideoWriter.html#afec93f94dc6c0b3e28f4dd153bc5a7f0)\n",
    "\n",
    "You can get a list of codecs linked above and also look at [this opencv doc](https://docs.opencv.org/4.0.0/dd/d43/tutorial_py_video_display.html) for details.\n",
    "\n",
    "Now after initializing the videowriter Object, you will write/save frame by frame , for this you will use **out.write(frame)** and you will put this inside a loop after **cap.read()** (and any other processing functions) so it will save every new frame read by the cap object.\n",
    "\n",
    "And finally at the end you release the Videowriter Object by: **out.release()**"
   ]
  },
  {
   "cell_type": "code",
   "execution_count": 6,
   "metadata": {},
   "outputs": [],
   "source": [
    "import numpy as np\n",
    "import cv2\n",
    "\n",
    "cap = cv2.VideoCapture(0)\n",
    "\n",
    "# This is how we define our codec\n",
    "fourcc = cv2.VideoWriter_fourcc(*'XVID')\n",
    "\n",
    "# Save our video at 20.0 FPS with the defined dimensions, Note my default camera has these dimensions, yours might be different\n",
    "out = cv2.VideoWriter(r'media/M1/mysavedmovie.mp4',fourcc, 20.0, (640,480))\n",
    "\n",
    "while(True):\n",
    "    ret, frame = cap.read()\n",
    "    if not ret:\n",
    "        break\n",
    "\n",
    "    # flip the frame vertically for no reason, you can try 1 or -1\n",
    "    frame = cv2.flip(frame,0)\n",
    "\n",
    "    # Save this frame\n",
    "    out.write(frame)\n",
    "\n",
    "    cv2.imshow('frame',frame)\n",
    "    if cv2.waitKey(1) & 0xFF == ord('q'):\n",
    "        break\n",
    "    \n",
    "# Release the video writer Object\n",
    "out.release()\n",
    "cap.release()\n",
    "cv2.destroyAllWindows()"
   ]
  },
  {
   "cell_type": "markdown",
   "metadata": {},
   "source": [
    "Now your Videowriter object has many properties which either you can see it by getting it:\n",
    ">    [```cap.get(property_ID)```](https://docs.opencv.org/4.2.0/dd/d9e/classcv_1_1VideoWriter.html#a284e798e95847789024954abeec945d5)\n",
    "\n",
    "Or you can change it by setting it:\n",
    "\n",
    ">    [```cap.set(property_ID,NEW_VLUE)```](https://docs.opencv.org/4.2.0/dd/d9e/classcv_1_1VideoWriter.html#a7ba668f440d8af5e1a92df58b2475816) \n",
    "\n",
    "**Params:**\n",
    "\n",
    "- `property_ID:` property Id is a number from 0 to 18. Each number denotes a property of the video (if it is applicable to that video) and full details can be [seen here](https://docs.opencv.org/4.0.0/d4/d15/group__videoio__flags__base.html#gaeb8dd9c89c10a5c63c139bf7c4f5704d): Some of these values can be modified using cap.set(propId, value). Value is the new value you want.\n",
    "- `NEW,VALUE:`The new value for that property you want to set for example, I can check the frame width and height by **cap.get(cv.CAP_PROP_FRAME_WIDTH)** Or by doing **cap.get(3)** and **cap.get(cv.CAP_PROP_FRAME_HEIGHT)** Or by doing **cap.get(4)**. It gives me 640x480 by default. But If I want to modify it to 320x240.\n",
    "Just do:\n",
    " * **cap.set(3,320) **\n",
    " * **cap.set(cv.CAP_PROP_FRAME_HEIGHT,240) **\n",
    "\n",
    "**Note:** It does not modify my width or height to any custom size but to some specific fixed sizes for example if I try to change the height to 260 it will round it of to the nearest accepted size which is 240 (half of 480). For my case the value can be changed in halves meaning after 240 next value should be 120. **cap.set()** returns a boolean value telling you if the property was successfully changed or not"
   ]
  }
 ],
 "metadata": {
  "kernelspec": {
   "display_name": "Python 3",
   "language": "python",
   "name": "python3"
  },
  "language_info": {
   "codemirror_mode": {
    "name": "ipython",
    "version": 3
   },
   "file_extension": ".py",
   "mimetype": "text/x-python",
   "name": "python",
   "nbconvert_exporter": "python",
   "pygments_lexer": "ipython3",
   "version": "3.7.3"
  }
 },
 "nbformat": 4,
 "nbformat_minor": 2
}
