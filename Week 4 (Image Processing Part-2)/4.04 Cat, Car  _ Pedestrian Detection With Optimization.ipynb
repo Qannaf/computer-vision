{
 "cells": [
  {
   "cell_type": "markdown",
   "metadata": {},
   "source": [
    "\n",
    "# <center><font style=\"color:rgb(100,109,254)\">Cat, Car  & Pedestrian Detection With Optimization</font><center>\n"
   ]
  },
  {
   "cell_type": "code",
   "execution_count": 28,
   "metadata": {},
   "outputs": [],
   "source": [
    "import numpy as np\n",
    "import cv2\n",
    "import matplotlib.pyplot as plt\n",
    "import time"
   ]
  },
  {
   "cell_type": "markdown",
   "metadata": {},
   "source": [
    "Beside these you can get more intresting models from here\n",
    "https://github.com/Itseez/opencv/tree/master/data/haarcascades"
   ]
  },
  {
   "cell_type": "markdown",
   "metadata": {},
   "source": [
    "##  <font style=\"color:rgb(134,19,348)\"> Cat Face Detection  </font> \n",
    "By just plugging in a model trained on cat faces, we can do cat face detection with haar cascades"
   ]
  },
  {
   "cell_type": "code",
   "execution_count": 29,
   "metadata": {},
   "outputs": [],
   "source": [
    "cat_cascade = cv2.CascadeClassifier('media/M4/haarcascade_frontalcatface.xml')\n",
    "cap = cv2.VideoCapture('media/M4/catrec.wmv')\n",
    "cv2.namedWindow('img', cv2.WINDOW_NORMAL)\n",
    "\n",
    "while 1:\n",
    "    \n",
    "        ret, image = cap.read()\n",
    "        if not ret:\n",
    "             break\n",
    "                \n",
    "        # just resizing to 70% of the size to increase speed       \n",
    "        image = cv2.resize(image, (0,0), fx=0.7, fy=0.7) \n",
    "        cat_faces = cat_cascade.detectMultiScale(image)\n",
    "        \n",
    "        for (x,y,w,h) in cat_faces:            \n",
    "                cv2.rectangle(image,(x ,y),(x+w,y+h),(0,0,255),2)\n",
    "                cv2.putText(image,'Cat Detected',(x,y+h+15), cv2.FONT_HERSHEY_SIMPLEX, 0.5, (0,0,255), 2, cv2.LINE_AA)   \n",
    "                   \n",
    "        cv2.imshow('img',image)\n",
    "        k = cv2.waitKey(25) \n",
    "        if k == ord('q'):\n",
    "            break\n",
    "\n",
    "cap.release()\n",
    "cv2.destroyAllWindows()"
   ]
  },
  {
   "cell_type": "markdown",
   "metadata": {},
   "source": [
    "## <font style=\"color:rgb(134,19,348)\"> Pedestrian Detection </font> \n",
    "Similarly we have a model trained on Pedestrians"
   ]
  },
  {
   "cell_type": "code",
   "execution_count": 36,
   "metadata": {},
   "outputs": [],
   "source": [
    "ped_cascade = cv2.CascadeClassifier('media/M4/haarcascade_fullbody.xml')\n",
    "cap = cv2.VideoCapture('media/M4/vtest.avi')\n",
    "cv2.namedWindow('img', cv2.WINDOW_NORMAL)\n",
    "\n",
    "while 1:\n",
    "    \n",
    "        ret, image = cap.read()\n",
    "        if not ret:\n",
    "             break\n",
    "\n",
    "        image = cv2.resize(image, (0,0), fx=0.5, fy=0.5)\n",
    "        pedestrians = ped_cascade.detectMultiScale(image)\n",
    "        \n",
    "        for (x,y,w,h) in pedestrians :\n",
    "                cv2.rectangle(image,(x ,y),(x+w,y+h),(0,0,255),2)\n",
    "                   \n",
    "        cv2.imshow('img',image)\n",
    "        k = cv2.waitKey(1) \n",
    "        if k == ord('q'):\n",
    "            break\n",
    "\n",
    "cap.release()\n",
    "cv2.destroyAllWindows()"
   ]
  },
  {
   "attachments": {
    "haarperson.png": {
     "image/png": "[encoded data removed]"
    }
   },
   "cell_type": "markdown",
   "metadata": {},
   "source": [
    "##  <font style=\"color:rgb(134,19,348)\"> Improved Version  </font> \n",
    "Now in this version we compute the coordinates on a lower res image for speed benefits and then after having the coordinates we draw on the original image by rescaling the coordinates according to the original image.\n",
    "\n",
    "This is really neat trick to get speed when dealing with models whose speed rely on image size.\n",
    "\n",
    "So here's what we do Suppose we have a 100 x 100 image , and we resize it to 50x50 so our model can run faster.\n",
    "\n",
    "Now the ratio of the resizing is `100 / 50  = 2`\n",
    "Now suppose we perform the computation on the image and detect a person's top left corner at location `(10,10)` of the downsized image, now if we want to draw these coordinates on the original image then we also have to resale these coordinates by multiplying it by the ratio, so we would do `10x10 * 2` to draw the correct coordinates on the original image and then show the original image as result.\n",
    "\n",
    "![haarperson.png](attachment:haarperson.png)\n",
    "\n",
    "And Of course, my above artistic drawing is not to scale."
   ]
  },
  {
   "cell_type": "code",
   "execution_count": 40,
   "metadata": {},
   "outputs": [],
   "source": [
    "cap = cv2.VideoCapture('media/M4/vtest.avi')\n",
    "ped_cascade = cv2.CascadeClassifier('media/M4/haarcascade_fullbody.xml')\n",
    "cv2.namedWindow('img', cv2.WINDOW_NORMAL)\n",
    "\n",
    "while 1:\n",
    "    \n",
    "        ret, image = cap.read()\n",
    "        if not ret:\n",
    "             break\n",
    "                \n",
    "        resized_image = cv2.resize(image, (0,0), fx=0.5, fy=0.5)\n",
    "        ratio = 1 / 0.5\n",
    "\n",
    "        faces = ped_cascade.detectMultiScale(resized_image)\n",
    "        for (x,y,w,h) in faces:\n",
    "                x= int(x * ratio)\n",
    "                y =int( y * ratio )\n",
    "                w = int(w * ratio)\n",
    "                h =int( h * ratio)\n",
    "            \n",
    "                cv2.rectangle(image,(x ,y),(x+w,y+h),(0,0,255),2)\n",
    "                   \n",
    "        cv2.imshow('img',image)\n",
    "        k = cv2.waitKey(1)\n",
    "        if k == ord('q'):\n",
    "            break\n",
    "\n",
    "cap.release()\n",
    "cv2.destroyAllWindows()"
   ]
  },
  {
   "cell_type": "markdown",
   "metadata": {},
   "source": [
    "##  <font style=\"color:rgb(134,19,348)\">  Car Detection with FPS  </font> \n",
    "Now its all good to monitor the speed visually but its much better and common practice to calculate FPS (Frames per second) when running models on video to check the speed.\n",
    "\n",
    "Here's how you can do it easily"
   ]
  },
  {
   "cell_type": "code",
   "execution_count": 43,
   "metadata": {},
   "outputs": [],
   "source": [
    "car_cascade = cv2.CascadeClassifier('media/M4/carshaar.xml')\n",
    "cap = cv2.VideoCapture('media/M4/carsvid.wmv')\n",
    "cv2.namedWindow('img', cv2.WINDOW_NORMAL)\n",
    "fps = 0  # set initial fps variable to 0\n",
    "\n",
    "while 1:  \n",
    "    \n",
    "        start_time = time.time() # note the current time at the start of the loop\n",
    "        ret, image = cap.read()\n",
    "        if not ret:\n",
    "             break\n",
    "        resized_image = cv2.resize(image, (0,0), fx=0.5, fy=0.5)\n",
    "        \n",
    "        cars = car_cascade.detectMultiScale(resized_image)  \n",
    "            \n",
    "        ratio = 1 / 0.5\n",
    "        for (x,y,w,h) in cars:\n",
    "                x = int(x * ratio)\n",
    "                y =int( y * ratio)\n",
    "                w = int(w * ratio)\n",
    "                h =int( h * ratio)\n",
    "            \n",
    "                cv2.rectangle(image,(x ,y),(x+w,y+h),(0,0,255),2)\n",
    "                cv2.putText(image,'Car Detected',(x,y-10), cv2.FONT_HERSHEY_SIMPLEX, 0.3, (0,255,0), 1, cv2.LINE_AA)\n",
    "                cv2.putText(image, 'FPS: {:.2f}'.format(fps), (20, 50),cv2.FONT_HERSHEY_SIMPLEX,0.7,(0,255,0),1,cv2.LINE_AA)\n",
    "            \n",
    "        cv2.imshow('img',image)\n",
    "        \n",
    "        # Minus the current time with start time to get total time for this loop\n",
    "        total_time = time.time() - start_time \n",
    "        \n",
    "        # divide the no of frames (1 in this case)/ by total time it took.\n",
    "        # And now you have the Fps, which you display on each frame\n",
    "        fps= (1.0 / total_time)   \n",
    "    \n",
    "        k = cv2.waitKey(1) \n",
    "        if k == ord('q'):\n",
    "            break\n",
    "\n",
    "cap.release()\n",
    "cv2.destroyAllWindows()"
   ]
  },
  {
   "cell_type": "markdown",
   "metadata": {},
   "source": [
    "##  <font style=\"color:rgb(134,19,348)\"> Using Skip Frames   </font> \n",
    "\n",
    "Another Common technique to speed up the detection is to skip frames, meaning you perform detection on every alternative frame but show every frame, if the video was recored at high fps like 30 and the objects in it are not moving too fast then the detection coordinates computed for n-2 frame can be used for n-1 frame.\n",
    "\n",
    "So this practically doubles the speed, unfortunately you can't see the difference in fps clearly as it will fluctuate too fast, but visually you can see the speed has doubled."
   ]
  },
  {
   "cell_type": "code",
   "execution_count": 44,
   "metadata": {},
   "outputs": [],
   "source": [
    "car_cascade = cv2.CascadeClassifier('media/M4/carshaar.xml')\n",
    "cap = cv2.VideoCapture('media/M4/carsvid.wmv')\n",
    "cv2.namedWindow('img', cv2.WINDOW_NORMAL)\n",
    "skip_frame = True\n",
    "\n",
    "while 1:    \n",
    "        ret, image = cap.read()\n",
    "        if not ret:\n",
    "             break\n",
    "        resized_image = cv2.resize(image, (0,0), fx=0.5, fy=0.5)\n",
    "        \n",
    "        if skip_frame:\n",
    "            cars = car_cascade.detectMultiScale(resized_image)\n",
    "            skip_frame = False\n",
    "        else: \n",
    "            skip_frame = True\n",
    "            \n",
    "        ratio = 1 / 0.5\n",
    "        for (x,y,w,h) in cars:\n",
    "                x = int(x * ratio)\n",
    "                y =int( y * ratio)\n",
    "                w = int(w * ratio)\n",
    "                h =int( h * ratio)\n",
    "            \n",
    "                cv2.rectangle(image,(x ,y),(x+w,y+h),(0,0,255),2)\n",
    "                cv2.putText(image,'Car Detected',(x,y-10), cv2.FONT_HERSHEY_SIMPLEX, 0.3, (0,255,0), 1, cv2.LINE_AA)\n",
    "                   \n",
    "        cv2.imshow('img',image)\n",
    "        k = cv2.waitKey(1) \n",
    "        if k == ord('q'):\n",
    "            break\n",
    "\n",
    "cap.release()\n",
    "cv2.destroyAllWindows()"
   ]
  }
 ],
 "metadata": {
  "kernelspec": {
   "display_name": "Python 3",
   "language": "python",
   "name": "python3"
  },
  "language_info": {
   "codemirror_mode": {
    "name": "ipython",
    "version": 3
   },
   "file_extension": ".py",
   "mimetype": "text/x-python",
   "name": "python",
   "nbconvert_exporter": "python",
   "pygments_lexer": "ipython3",
   "version": "3.7.3"
  }
 },
 "nbformat": 4,
 "nbformat_minor": 2
}
