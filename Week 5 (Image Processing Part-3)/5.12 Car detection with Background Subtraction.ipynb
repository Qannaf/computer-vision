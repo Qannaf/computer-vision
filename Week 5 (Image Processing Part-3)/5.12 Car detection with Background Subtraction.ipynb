{
 "cells": [
  {
   "cell_type": "markdown",
   "metadata": {},
   "source": [
    "# <center> <font style=\"color:rgb(100,109,254)\">  Car detection with Background Subtraction  </font> </center>"
   ]
  },
  {
   "cell_type": "code",
   "execution_count": 1,
   "metadata": {},
   "outputs": [],
   "source": [
    "import cv2\n",
    "import matplotlib.pyplot as plt\n",
    "import numpy as np"
   ]
  },
  {
   "cell_type": "markdown",
   "metadata": {},
   "source": [
    "Remember previously we tried to do car detection with a Haar cascades and the results were not that good, so what we're gonna do now is try another approach, which is background subtraction & Contour detection since the video was recorded with a fixed camera and the cars are moving on a static background, we can achieve much greater results with this approach."
   ]
  },
  {
   "cell_type": "markdown",
   "metadata": {},
   "source": [
    "Our Whole Pipeline consists of 4 simple steps:\n",
    "\n",
    "- **Step 1:** Extract cars with Background Subtraction and get rid of the shadows\n",
    "- **Step 2:** Apply morphological operations to improve the backsub mask\n",
    "- **Step 3:** Detect Contours and make sure you're not detecting noise\n",
    "- **Step 4:** Compute a bounding box over the contour, draw it and show the image"
   ]
  },
  {
   "cell_type": "code",
   "execution_count": 3,
   "metadata": {},
   "outputs": [],
   "source": [
    "# initlize video capture object\n",
    "cap = cv2.VideoCapture('media/M4/carsvid.wmv')\n",
    "\n",
    "# you can set custom kernel size if you want\n",
    "kernel= None\n",
    "\n",
    "# initilize background subtractor object\n",
    "foog = cv2.createBackgroundSubtractorMOG2()\n",
    "\n",
    "while(1):\n",
    "    ret, frame = cap.read()\n",
    "    if not ret:\n",
    "        break\n",
    "        \n",
    "    # apply background subtraction\n",
    "    fgmask = foog.apply(frame)\n",
    "    \n",
    "    # get rid of the shadows\n",
    "    ret, fgmask = cv2.threshold(fgmask, 250, 255, cv2.THRESH_BINARY)\n",
    "    \n",
    "    # apply some morphological operations to make sure you have a good mask\n",
    "    fgmask = cv2.erode(fgmask,kernel,iterations = 1)\n",
    "    fgmask = cv2.dilate(fgmask,kernel,iterations = 2)\n",
    "    \n",
    "    # Detect contours in the frame\n",
    "    contours, hierarchy = cv2.findContours(fgmask,cv2.RETR_EXTERNAL,cv2.CHAIN_APPROX_SIMPLE)\n",
    "    \n",
    "    # loop over each contour in a given frame\n",
    "    for cnt in contours:\n",
    "        \n",
    "        # make sure the contour area is somewhat hihger than some threshold to make sure its a car and not some noise.\n",
    "        if cv2.contourArea(cnt) > 400:\n",
    "            \n",
    "            # Draw a bounding box around the car and labet it as car detected\n",
    "            x,y,w,h = cv2.boundingRect(cnt)\n",
    "            cv2.rectangle(frame,(x ,y),(x+w,y+h),(0,0,255),2)\n",
    "            cv2.putText(frame,'Car Detected',(x,y-10), cv2.FONT_HERSHEY_SIMPLEX, 0.3, (0,255,0), 1, cv2.LINE_AA)\n",
    "\n",
    " \n",
    "    # Stack all both frames and show the image\n",
    "    fgmask_3 = cv2.cvtColor(fgmask, cv2.COLOR_GRAY2BGR)\n",
    "    stacked = np.hstack((fgmask_3,frame))\n",
    "    cv2.imshow('All three',cv2.resize(stacked,None,fx=0.65,fy=0.65))\n",
    "\n",
    "    k = cv2.waitKey(1) & 0xff\n",
    "    if k == ord('q'):\n",
    "        break\n",
    "\n",
    "cap.release()\n",
    "cv2.destroyAllWindows()"
   ]
  },
  {
   "cell_type": "markdown",
   "metadata": {},
   "source": [
    " **`Note:` you can further improve this by experimenting with different background subtraction functions and threshold values, morphological params etc.**"
   ]
  }
 ],
 "metadata": {
  "kernelspec": {
   "display_name": "Python 3",
   "language": "python",
   "name": "python3"
  },
  "language_info": {
   "codemirror_mode": {
    "name": "ipython",
    "version": 3
   },
   "file_extension": ".py",
   "mimetype": "text/x-python",
   "name": "python",
   "nbconvert_exporter": "python",
   "pygments_lexer": "ipython3",
   "version": "3.6.10"
  }
 },
 "nbformat": 4,
 "nbformat_minor": 2
}
