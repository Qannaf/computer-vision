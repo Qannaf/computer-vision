{
 "cells": [
  {
   "cell_type": "markdown",
   "metadata": {},
   "source": [
    "\n",
    "# <center><font style=\"color:rgb(100,109,254)\">  Numpy Crash Course</font><center>\n"
   ]
  },
  {
   "cell_type": "code",
   "execution_count": 2,
   "metadata": {},
   "outputs": [],
   "source": [
    "import numpy as np"
   ]
  },
  {
   "cell_type": "markdown",
   "metadata": {},
   "source": [
    "\n",
    "## <font style=\"color:rgb(134,19,348)\">  Filtering   </font> \n",
    "We can also use boolean indexing/masks. Suppose we want to set all elements greater than MAX to MAX:"
   ]
  },
  {
   "cell_type": "code",
   "execution_count": 5,
   "metadata": {},
   "outputs": [
    {
     "name": "stdout",
     "output_type": "stream",
     "text": [
      "[False False  True False  True False False]\n",
      "[ 1  4  5 -1  5  0  5]\n"
     ]
    }
   ],
   "source": [
    "MAX = 5\n",
    "nums = np.array([1, 4, 10, -1, 15, 0, 5])\n",
    "print(nums > MAX)           \n",
    "\n",
    "\n",
    "nums[nums > MAX] = MAX\n",
    "print(nums)                 "
   ]
  },
  {
   "cell_type": "markdown",
   "metadata": {},
   "source": [
    "##  <font style=\"color:rgb(134,19,348)\"> Stacking   </font> "
   ]
  },
  {
   "cell_type": "markdown",
   "metadata": {},
   "source": [
    "`numpy.stack()`:\n",
    "**Joins a sequence of arrays along a new axis.**<br>"
   ]
  },
  {
   "cell_type": "code",
   "execution_count": 6,
   "metadata": {},
   "outputs": [
    {
     "name": "stdout",
     "output_type": "stream",
     "text": [
      "[[0 1 2]\n",
      " [3 4 5]\n",
      " [6 7 8]]\n"
     ]
    }
   ],
   "source": [
    "a =  np.arange(9).reshape(3 , 3)\n",
    "print(a)"
   ]
  },
  {
   "cell_type": "code",
   "execution_count": 7,
   "metadata": {},
   "outputs": [
    {
     "name": "stdout",
     "output_type": "stream",
     "text": [
      "[[10 11 12]\n",
      " [13 14 15]\n",
      " [16 17 18]]\n"
     ]
    }
   ],
   "source": [
    "b = np.arange(10,19).reshape(3,3)\n",
    "print(b)"
   ]
  },
  {
   "cell_type": "code",
   "execution_count": 8,
   "metadata": {},
   "outputs": [
    {
     "name": "stdout",
     "output_type": "stream",
     "text": [
      "[[20 21 22]\n",
      " [23 24 25]\n",
      " [26 27 28]]\n"
     ]
    }
   ],
   "source": [
    "c = np.arange(20,29).reshape(3,3)\n",
    "print(c)"
   ]
  },
  {
   "cell_type": "markdown",
   "metadata": {},
   "source": [
    "**Horizontal Stacking**"
   ]
  },
  {
   "cell_type": "code",
   "execution_count": 9,
   "metadata": {},
   "outputs": [
    {
     "data": {
      "text/plain": [
       "array([[ 0,  1,  2, 10, 11, 12, 20, 21, 22],\n",
       "       [ 3,  4,  5, 13, 14, 15, 23, 24, 25],\n",
       "       [ 6,  7,  8, 16, 17, 18, 26, 27, 28]])"
      ]
     },
     "execution_count": 9,
     "metadata": {},
     "output_type": "execute_result"
    }
   ],
   "source": [
    "np.hstack((a, b,c))"
   ]
  },
  {
   "cell_type": "markdown",
   "metadata": {},
   "source": [
    "**Vertical Stacking**"
   ]
  },
  {
   "cell_type": "code",
   "execution_count": 10,
   "metadata": {},
   "outputs": [
    {
     "data": {
      "text/plain": [
       "array([[ 0,  1,  2],\n",
       "       [ 3,  4,  5],\n",
       "       [ 6,  7,  8],\n",
       "       [20, 21, 22],\n",
       "       [23, 24, 25],\n",
       "       [26, 27, 28],\n",
       "       [10, 11, 12],\n",
       "       [13, 14, 15],\n",
       "       [16, 17, 18]])"
      ]
     },
     "execution_count": 10,
     "metadata": {},
     "output_type": "execute_result"
    }
   ],
   "source": [
    "np.vstack((a, c , b))"
   ]
  },
  {
   "cell_type": "markdown",
   "metadata": {},
   "source": [
    "**1D vectors** <br>\n",
    "The problem with 1 D vectors or 0 rank arrays is that you can't define them as row or column vectors, so sometimes it may be better to define them as 2D"
   ]
  },
  {
   "cell_type": "code",
   "execution_count": 11,
   "metadata": {},
   "outputs": [
    {
     "name": "stdout",
     "output_type": "stream",
     "text": [
      "[0.99399181 0.88830143 0.21620255 0.5822636  0.78464844]\n",
      "(5,)\n"
     ]
    }
   ],
   "source": [
    "v=np.random.rand(5)\n",
    "print(v)\n",
    "print(v.shape)"
   ]
  },
  {
   "cell_type": "markdown",
   "metadata": {},
   "source": [
    "**Row Vector** "
   ]
  },
  {
   "cell_type": "code",
   "execution_count": 12,
   "metadata": {},
   "outputs": [
    {
     "name": "stdout",
     "output_type": "stream",
     "text": [
      "[[0.05290824 0.61838694 0.47541656 0.25096532 0.03506057]]\n",
      "(1, 5)\n"
     ]
    }
   ],
   "source": [
    "v=np.random.rand(1,5)\n",
    "print(v)\n",
    "print(v.shape)  #row vector"
   ]
  },
  {
   "cell_type": "markdown",
   "metadata": {},
   "source": [
    "**Column Vector** "
   ]
  },
  {
   "cell_type": "code",
   "execution_count": 13,
   "metadata": {},
   "outputs": [
    {
     "name": "stdout",
     "output_type": "stream",
     "text": [
      "[[0.82158503]\n",
      " [0.38584894]\n",
      " [0.68100555]\n",
      " [0.27551084]\n",
      " [0.53602123]]\n",
      "(5, 1)\n"
     ]
    }
   ],
   "source": [
    "v=np.random.rand(5,1)\n",
    "print(v)\n",
    "print(v.shape)   #column vector"
   ]
  },
  {
   "cell_type": "markdown",
   "metadata": {},
   "source": [
    "\n",
    "### <font style=\"color:rgb(134,19,348)\"> Converting Python Lists to Numpy arrays   </font> "
   ]
  },
  {
   "cell_type": "code",
   "execution_count": 15,
   "metadata": {},
   "outputs": [
    {
     "name": "stdout",
     "output_type": "stream",
     "text": [
      "<class 'list'>\n",
      "<class 'numpy.ndarray'>\n"
     ]
    }
   ],
   "source": [
    "pythonlist = [2,3,4,4]\n",
    "print(type(pythonlist))\n",
    "numpylist = np.array(pythonlist)\n",
    "print(type(numpylist))"
   ]
  },
  {
   "cell_type": "markdown",
   "metadata": {},
   "source": [
    "\n",
    "## <font style=\"color:rgb(134,19,348)\"> View and Copies.  </font> "
   ]
  },
  {
   "cell_type": "markdown",
   "metadata": {},
   "source": [
    "Unlike a copy, in a **view** of an array, the data is shared between the view and the array. Sometimes, our results are copies of arrays, but other times they can be views. Understanding when each is generated is important to avoid any unforeseen issues.\n",
    "\n",
    "\n",
    "### <font style=\"color:rgb(134,19,348)\">  Views  </font> \n",
    "**Views can be created from a slice of an array**"
   ]
  },
  {
   "cell_type": "code",
   "execution_count": 16,
   "metadata": {},
   "outputs": [
    {
     "name": "stdout",
     "output_type": "stream",
     "text": [
      "Original:\n",
      " [0 1 2 3 4]\n",
      "Array After Modified View:\n",
      " [-100    1    2    3    4]\n"
     ]
    }
   ],
   "source": [
    "x = np.arange(5)\n",
    "print('Original:\\n', x)  \n",
    "\n",
    "# Modifying the view will modify the array\n",
    "view = x[0:3]\n",
    "view[0] = -100\n",
    "print('Array After Modified View:\\n', x) "
   ]
  },
  {
   "cell_type": "markdown",
   "metadata": {},
   "source": [
    "### <font style=\"color:rgb(134,19,348)\"> Copy  </font> \n",
    "Just add a `.copy()` after the array to prevent it from being modified"
   ]
  },
  {
   "cell_type": "code",
   "execution_count": 17,
   "metadata": {},
   "outputs": [
    {
     "name": "stdout",
     "output_type": "stream",
     "text": [
      "Original:\n",
      " [0 1 2 3 4]\n",
      "Copy:\n",
      " [   1 -100]\n",
      "Array After Modified Copy:\n",
      " [0 1 2 3 4]\n"
     ]
    }
   ],
   "source": [
    "x = np.arange(5)\n",
    "print('Original:\\n', x) \n",
    "\n",
    "# Copy, will not modify the original array.\n",
    "copy = x[1:3].copy()   \n",
    "copy[1] = -100\n",
    "print('Copy:\\n', copy) \n",
    "print('Array After Modified Copy:\\n', x)  "
   ]
  },
  {
   "cell_type": "markdown",
   "metadata": {},
   "source": [
    "\n",
    "## <font style=\"color:rgb(134,19,348)\">Summary   </font> \n",
    "\n",
    "1. Numpy is an incredibly powerful library for computation providing both massive efficiency gains and convenience.\n",
    "2. Vectorize! Orders of magnitude faster.\n",
    "3. Keeping track of the shape of your arrays is often useful.\n",
    "4. Many of the useful math functions and operations are built into Numpy.\n",
    "5. Watch out for views vs. copies."
   ]
  }
 ],
 "metadata": {
  "kernelspec": {
   "display_name": "Python 3",
   "language": "python",
   "name": "python3"
  },
  "language_info": {
   "codemirror_mode": {
    "name": "ipython",
    "version": 3
   },
   "file_extension": ".py",
   "mimetype": "text/x-python",
   "name": "python",
   "nbconvert_exporter": "python",
   "pygments_lexer": "ipython3",
   "version": "3.7.3"
  }
 },
 "nbformat": 4,
 "nbformat_minor": 2
}
